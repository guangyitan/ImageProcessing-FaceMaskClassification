{
  "nbformat": 4,
  "nbformat_minor": 0,
  "metadata": {
    "colab": {
      "name": "Train_Xception.ipynb",
      "provenance": [],
      "collapsed_sections": [],
      "toc_visible": true,
      "authorship_tag": "ABX9TyOV/E2obdvS68Dz0xgA6M0+",
      "include_colab_link": true
    },
    "kernelspec": {
      "name": "python3",
      "display_name": "Python 3"
    },
    "language_info": {
      "name": "python"
    },
    "accelerator": "GPU"
  },
  "cells": [
    {
      "cell_type": "markdown",
      "metadata": {
        "id": "view-in-github",
        "colab_type": "text"
      },
      "source": [
        "<a href=\"https://colab.research.google.com/github/guangyitan/ImageProcessing-FaceMaskClassification/blob/main/Train_Xception.ipynb\" target=\"_parent\"><img src=\"https://colab.research.google.com/assets/colab-badge.svg\" alt=\"Open In Colab\"/></a>"
      ]
    },
    {
      "cell_type": "code",
      "metadata": {
        "colab": {
          "base_uri": "https://localhost:8080/"
        },
        "id": "Vy86ULxT0TWw",
        "outputId": "f5be5e7e-472b-4acd-c2a7-d866b823a909"
      },
      "source": [
        "from google.colab import drive\n",
        "drive.mount('/content/MyDrive')"
      ],
      "execution_count": null,
      "outputs": [
        {
          "output_type": "stream",
          "name": "stdout",
          "text": [
            "Mounted at /content/MyDrive\n"
          ]
        }
      ]
    },
    {
      "cell_type": "code",
      "metadata": {
        "id": "uVwPjVnj1-cB"
      },
      "source": [
        "import numpy as np\n",
        "import os\n",
        "import pickle\n",
        "import matplotlib.pyplot as plt\n",
        "from imutils import paths\n",
        "from tqdm import tqdm\n",
        "\n",
        "from tensorflow.keras.applications import Xception\n",
        "from tensorflow.keras.layers import AveragePooling2D\n",
        "from tensorflow.keras.layers import Dropout\n",
        "from tensorflow.keras.layers import Flatten\n",
        "from tensorflow.keras.layers import Dense\n",
        "from tensorflow.keras.layers import Input\n",
        "from tensorflow.keras.models import Model\n",
        "from tensorflow.keras.optimizers import Adam\n",
        "from tensorflow.keras.applications.mobilenet_v2 import preprocess_input\n",
        "from tensorflow.keras.models import load_model\n",
        "\n",
        "from tensorflow.keras.preprocessing.image import ImageDataGenerator\n",
        "from tensorflow.keras.preprocessing.image import img_to_array\n",
        "from tensorflow.keras.preprocessing.image import load_img\n",
        "from tensorflow.keras.utils import to_categorical\n",
        "from sklearn.preprocessing import LabelBinarizer\n",
        "from sklearn.model_selection import train_test_split\n",
        "from sklearn.metrics import classification_report"
      ],
      "execution_count": null,
      "outputs": []
    },
    {
      "cell_type": "code",
      "metadata": {
        "colab": {
          "base_uri": "https://localhost:8080/"
        },
        "id": "k28Bzsb52I3n",
        "outputId": "fbacf6a0-b326-4606-dc25-245b6411a101"
      },
      "source": [
        "project_path = '/content/MyDrive/My Drive/Colab Notebooks/Image Processing/Face Mask Detection Assignment/'\n",
        "model_path = '/content/MyDrive/My Drive/Colab Notebooks/Image Processing/Face Mask Detection Assignment/Trained_Models/Xception/'\n",
        "# training_zip_path = project_path + 'face-mask-detector.zip'\n",
        "dataset_path = project_path + 'Balanced_Dataset'\n",
        "\n",
        "print(dataset_path)"
      ],
      "execution_count": null,
      "outputs": [
        {
          "output_type": "stream",
          "name": "stdout",
          "text": [
            "/content/MyDrive/My Drive/Colab Notebooks/Image Processing/Face Mask Detection Assignment/Balanced_Dataset\n"
          ]
        }
      ]
    },
    {
      "cell_type": "code",
      "metadata": {
        "colab": {
          "base_uri": "https://localhost:8080/"
        },
        "id": "GM9d4gY62eZw",
        "outputId": "4bb3fe87-1882-43f6-9d9e-868aa378c289"
      },
      "source": [
        "# Initialize the path for dataset\n",
        "imagePaths=list(paths.list_images(dataset_path))\n",
        "print(\"Number of dataset:\", len(imagePaths))"
      ],
      "execution_count": null,
      "outputs": [
        {
          "output_type": "stream",
          "name": "stdout",
          "text": [
            "Number of dataset: 2500\n"
          ]
        }
      ]
    },
    {
      "cell_type": "code",
      "metadata": {
        "colab": {
          "base_uri": "https://localhost:8080/",
          "height": 35
        },
        "id": "ybuElalc20NY",
        "outputId": "6e8cd7ce-bee4-4bb7-8799-bcbd1aeab495"
      },
      "source": [
        "imagePaths[0].split(os.path.sep)[-2]\n"
      ],
      "execution_count": null,
      "outputs": [
        {
          "output_type": "execute_result",
          "data": {
            "application/vnd.google.colaboratory.intrinsic+json": {
              "type": "string"
            },
            "text/plain": [
              "'Mask_Nose_Mouth'"
            ]
          },
          "metadata": {},
          "execution_count": 5
        }
      ]
    },
    {
      "cell_type": "markdown",
      "metadata": {
        "id": "KDBL9Vqt3KBQ"
      },
      "source": [
        "# Load and preprocess dataset"
      ]
    },
    {
      "cell_type": "markdown",
      "metadata": {
        "id": "43UsCjQ9w34n"
      },
      "source": [
        "## Load from images"
      ]
    },
    {
      "cell_type": "code",
      "metadata": {
        "id": "LOZaI1oL2p7l"
      },
      "source": [
        "# # initialize dataset and its label\n",
        "# data=[]\n",
        "# labels=[]\n",
        "\n",
        "# for i in tqdm(imagePaths):\n",
        "\n",
        "#   # get the dataset label from its path\n",
        "#   label = i.split(os.path.sep)[-2]\n",
        "#   labels.append(label)\n",
        "\n",
        "#   # get the dataset image, convert to array and preprocess it\n",
        "#   image = load_img(i, target_size=(224,224))\n",
        "#   image = img_to_array(image)\n",
        "#   image = preprocess_input(image)\n",
        "#   data.append(image)"
      ],
      "execution_count": null,
      "outputs": []
    },
    {
      "cell_type": "markdown",
      "metadata": {
        "id": "I_oEm5wfw7_8"
      },
      "source": [
        "## Load from array"
      ]
    },
    {
      "cell_type": "code",
      "metadata": {
        "id": "E5BbCu1LwCA4"
      },
      "source": [
        "# data = []\n",
        "# labels = []\n",
        "\n",
        "# load model history\n",
        "import pickle\n",
        "\n",
        "with open('/content/MyDrive/My Drive/Colab Notebooks/Image Processing/Face Mask Detection Assignment/Loaded_Dataset/images_array.txt', 'rb') as filehandle:\n",
        "    # read the data as binary data stream\n",
        "    data = pickle.load(filehandle)\n",
        "\n",
        "with open('/content/MyDrive/My Drive/Colab Notebooks/Image Processing/Face Mask Detection Assignment/Loaded_Dataset/labels.txt', 'rb') as filehandle2:\n",
        "    # read the data as binary data stream\n",
        "    labels = pickle.load(filehandle2)"
      ],
      "execution_count": null,
      "outputs": []
    },
    {
      "cell_type": "code",
      "metadata": {
        "id": "6eMQJeipxCRK",
        "colab": {
          "base_uri": "https://localhost:8080/"
        },
        "outputId": "a15d31bc-7564-486d-a1a8-d3ecd719bbbb"
      },
      "source": [
        "# check if data and labels are loaded correctly\n",
        "print(len(data))\n",
        "print(data[0])\n",
        "\n",
        "print(len(labels))\n",
        "print(labels[0])"
      ],
      "execution_count": null,
      "outputs": [
        {
          "output_type": "stream",
          "name": "stdout",
          "text": [
            "2500\n",
            "[[[-0.9764706   0.04313731  0.1686275 ]\n",
            "  [-1.         -0.00392157  0.12941182]\n",
            "  [-1.          0.01176476  0.13725495]\n",
            "  ...\n",
            "  [-0.99215686 -0.06666666  0.21568632]\n",
            "  [-1.         -0.09803921  0.19215691]\n",
            "  [-1.         -0.09019607  0.18431377]]\n",
            "\n",
            " [[-0.99215686  0.02745104  0.15294123]\n",
            "  [-1.         -0.00392157  0.12941182]\n",
            "  [-1.          0.01176476  0.12156868]\n",
            "  ...\n",
            "  [-1.         -0.11372548  0.17647064]\n",
            "  [-1.         -0.11372548  0.17647064]\n",
            "  [-1.         -0.10588235  0.17647064]]\n",
            "\n",
            " [[-1.          0.0196079   0.14509809]\n",
            "  [-0.9843137   0.01176476  0.12941182]\n",
            "  [-1.         -0.00392157  0.09803927]\n",
            "  ...\n",
            "  [-1.         -0.12156862  0.1686275 ]\n",
            "  [-1.         -0.10588235  0.18431377]\n",
            "  [-0.99215686 -0.11372548  0.18431377]]\n",
            "\n",
            " ...\n",
            "\n",
            " [[-0.8352941   0.19215691  0.33333337]\n",
            "  [-0.8117647   0.21568632  0.35686278]\n",
            "  [-0.84313726  0.20000005  0.33333337]\n",
            "  ...\n",
            "  [-0.00392157  0.21568632  0.22352946]\n",
            "  [ 0.02745104  0.22352946  0.254902  ]\n",
            "  [ 0.02745104  0.22352946  0.27843142]]\n",
            "\n",
            " [[-0.85882354  0.16078436  0.28627455]\n",
            "  [-0.85882354  0.17647064  0.2941177 ]\n",
            "  [-0.85882354  0.18431377  0.30196083]\n",
            "  ...\n",
            "  [ 0.03529418  0.22352946  0.23921573]\n",
            "  [ 0.04313731  0.20784318  0.24705887]\n",
            "  [ 0.05098045  0.20784318  0.27843142]]\n",
            "\n",
            " [[-0.88235295  0.14509809  0.28627455]\n",
            "  [-0.8745098   0.15294123  0.2941177 ]\n",
            "  [-0.84313726  0.1686275   0.3176471 ]\n",
            "  ...\n",
            "  [ 0.0196079   0.21568632  0.24705887]\n",
            "  [ 0.06666672  0.24705887  0.2941177 ]\n",
            "  [ 0.00392163  0.20000005  0.23921573]]]\n",
            "2500\n",
            "Corret_Mask\n"
          ]
        }
      ]
    },
    {
      "cell_type": "code",
      "metadata": {
        "id": "Ci8RNJVs3Gji"
      },
      "source": [
        "# convert data and label to np array\n",
        "data = np.array(data, dtype=\"float32\")\n",
        "labels = np.array(labels)\n",
        "\n",
        "# perform one-hot encoding on the labels\n",
        "lb = LabelBinarizer()\n",
        "labels = lb.fit_transform(labels)\n",
        "# labels = to_categorical(labels)\n",
        "\n",
        "# split the data into 70% for training and 30% for testing \n",
        "(trainX, testX, trainY, testY) = train_test_split(data, labels, test_size=0.30, stratify=labels, random_state=10)\n",
        "\n",
        "# construct the training image generator for data augmentation\n",
        "aug = ImageDataGenerator(\n",
        "\trotation_range=20,\n",
        "\tzoom_range=0.15,\n",
        "\twidth_shift_range=0.2,\n",
        "\theight_shift_range=0.2,\n",
        "\tshear_range=0.15,\n",
        "\thorizontal_flip=True,\n",
        "\tfill_mode=\"nearest\")"
      ],
      "execution_count": null,
      "outputs": []
    },
    {
      "cell_type": "code",
      "metadata": {
        "id": "wcojWL9OxZ0G",
        "colab": {
          "base_uri": "https://localhost:8080/"
        },
        "outputId": "08208ab3-9879-47c2-9331-67cdd44fdd2e"
      },
      "source": [
        "# check the shape of splited dataset\n",
        "print(\"trainX:\", trainX.shape)\n",
        "print(\"testX:\", testX.shape)\n",
        "print(\"trainY:\", trainY.shape)\n",
        "print(\"testY:\", testY.shape)"
      ],
      "execution_count": null,
      "outputs": [
        {
          "output_type": "stream",
          "name": "stdout",
          "text": [
            "trainX: (1750, 224, 224, 3)\n",
            "testX: (750, 224, 224, 3)\n",
            "trainY: (1750, 5)\n",
            "testY: (750, 5)\n"
          ]
        }
      ]
    },
    {
      "cell_type": "markdown",
      "metadata": {
        "id": "dVlo4HJD3Zvo"
      },
      "source": [
        "# Start Constructing the Model "
      ]
    },
    {
      "cell_type": "code",
      "metadata": {
        "id": "9dsVw8xx3XR-",
        "colab": {
          "base_uri": "https://localhost:8080/"
        },
        "outputId": "26666710-240f-4e5e-c780-19dc40b96229"
      },
      "source": [
        "# load the Xception network, ensuring the head FC layer sets are left off\n",
        "baseModel = Xception(weights=\"imagenet\", include_top=False, input_tensor=Input(shape=(224, 224, 3)))\n",
        "\n",
        "# construct the head of the model that will be placed on top of the base model(MobileNetV2)\n",
        "# I'm using softmax for multiclass classification \n",
        "# the output of model has 3 classes (mask, no_mask, wrong_mask)\n",
        "headModel = baseModel.output\n",
        "headModel = AveragePooling2D(pool_size=(7, 7))(headModel)\n",
        "headModel = Flatten(name=\"flatten\")(headModel)\n",
        "headModel = Dense(128, activation=\"relu\")(headModel)\n",
        "headModel = Dropout(0.5)(headModel)\n",
        "headModel = Dense(5, activation=\"softmax\")(headModel)\n",
        "\n",
        "# place the head FC model on top of the base model\n",
        "model = Model(inputs=baseModel.input, outputs=headModel)\n",
        "\n",
        "# loop over all layers in the base model and set them as not trainable\n",
        "for layer in baseModel.layers:\n",
        "\tlayer.trainable = False\n",
        "\n",
        "# check the architecture of the model\n",
        "# Total params: 2,422,339\n",
        "# Trainable params: 164,355 (from the layers that was added to the MobileNetV2)\n",
        "# Non-trainable params: 2,257,984\n",
        "model.summary()"
      ],
      "execution_count": null,
      "outputs": [
        {
          "output_type": "stream",
          "name": "stdout",
          "text": [
            "Downloading data from https://storage.googleapis.com/tensorflow/keras-applications/xception/xception_weights_tf_dim_ordering_tf_kernels_notop.h5\n",
            "83689472/83683744 [==============================] - 1s 0us/step\n",
            "83697664/83683744 [==============================] - 1s 0us/step\n",
            "Model: \"model\"\n",
            "__________________________________________________________________________________________________\n",
            " Layer (type)                   Output Shape         Param #     Connected to                     \n",
            "==================================================================================================\n",
            " input_1 (InputLayer)           [(None, 224, 224, 3  0           []                               \n",
            "                                )]                                                                \n",
            "                                                                                                  \n",
            " block1_conv1 (Conv2D)          (None, 111, 111, 32  864         ['input_1[0][0]']                \n",
            "                                )                                                                 \n",
            "                                                                                                  \n",
            " block1_conv1_bn (BatchNormaliz  (None, 111, 111, 32  128        ['block1_conv1[0][0]']           \n",
            " ation)                         )                                                                 \n",
            "                                                                                                  \n",
            " block1_conv1_act (Activation)  (None, 111, 111, 32  0           ['block1_conv1_bn[0][0]']        \n",
            "                                )                                                                 \n",
            "                                                                                                  \n",
            " block1_conv2 (Conv2D)          (None, 109, 109, 64  18432       ['block1_conv1_act[0][0]']       \n",
            "                                )                                                                 \n",
            "                                                                                                  \n",
            " block1_conv2_bn (BatchNormaliz  (None, 109, 109, 64  256        ['block1_conv2[0][0]']           \n",
            " ation)                         )                                                                 \n",
            "                                                                                                  \n",
            " block1_conv2_act (Activation)  (None, 109, 109, 64  0           ['block1_conv2_bn[0][0]']        \n",
            "                                )                                                                 \n",
            "                                                                                                  \n",
            " block2_sepconv1 (SeparableConv  (None, 109, 109, 12  8768       ['block1_conv2_act[0][0]']       \n",
            " 2D)                            8)                                                                \n",
            "                                                                                                  \n",
            " block2_sepconv1_bn (BatchNorma  (None, 109, 109, 12  512        ['block2_sepconv1[0][0]']        \n",
            " lization)                      8)                                                                \n",
            "                                                                                                  \n",
            " block2_sepconv2_act (Activatio  (None, 109, 109, 12  0          ['block2_sepconv1_bn[0][0]']     \n",
            " n)                             8)                                                                \n",
            "                                                                                                  \n",
            " block2_sepconv2 (SeparableConv  (None, 109, 109, 12  17536      ['block2_sepconv2_act[0][0]']    \n",
            " 2D)                            8)                                                                \n",
            "                                                                                                  \n",
            " block2_sepconv2_bn (BatchNorma  (None, 109, 109, 12  512        ['block2_sepconv2[0][0]']        \n",
            " lization)                      8)                                                                \n",
            "                                                                                                  \n",
            " conv2d (Conv2D)                (None, 55, 55, 128)  8192        ['block1_conv2_act[0][0]']       \n",
            "                                                                                                  \n",
            " block2_pool (MaxPooling2D)     (None, 55, 55, 128)  0           ['block2_sepconv2_bn[0][0]']     \n",
            "                                                                                                  \n",
            " batch_normalization (BatchNorm  (None, 55, 55, 128)  512        ['conv2d[0][0]']                 \n",
            " alization)                                                                                       \n",
            "                                                                                                  \n",
            " add (Add)                      (None, 55, 55, 128)  0           ['block2_pool[0][0]',            \n",
            "                                                                  'batch_normalization[0][0]']    \n",
            "                                                                                                  \n",
            " block3_sepconv1_act (Activatio  (None, 55, 55, 128)  0          ['add[0][0]']                    \n",
            " n)                                                                                               \n",
            "                                                                                                  \n",
            " block3_sepconv1 (SeparableConv  (None, 55, 55, 256)  33920      ['block3_sepconv1_act[0][0]']    \n",
            " 2D)                                                                                              \n",
            "                                                                                                  \n",
            " block3_sepconv1_bn (BatchNorma  (None, 55, 55, 256)  1024       ['block3_sepconv1[0][0]']        \n",
            " lization)                                                                                        \n",
            "                                                                                                  \n",
            " block3_sepconv2_act (Activatio  (None, 55, 55, 256)  0          ['block3_sepconv1_bn[0][0]']     \n",
            " n)                                                                                               \n",
            "                                                                                                  \n",
            " block3_sepconv2 (SeparableConv  (None, 55, 55, 256)  67840      ['block3_sepconv2_act[0][0]']    \n",
            " 2D)                                                                                              \n",
            "                                                                                                  \n",
            " block3_sepconv2_bn (BatchNorma  (None, 55, 55, 256)  1024       ['block3_sepconv2[0][0]']        \n",
            " lization)                                                                                        \n",
            "                                                                                                  \n",
            " conv2d_1 (Conv2D)              (None, 28, 28, 256)  32768       ['add[0][0]']                    \n",
            "                                                                                                  \n",
            " block3_pool (MaxPooling2D)     (None, 28, 28, 256)  0           ['block3_sepconv2_bn[0][0]']     \n",
            "                                                                                                  \n",
            " batch_normalization_1 (BatchNo  (None, 28, 28, 256)  1024       ['conv2d_1[0][0]']               \n",
            " rmalization)                                                                                     \n",
            "                                                                                                  \n",
            " add_1 (Add)                    (None, 28, 28, 256)  0           ['block3_pool[0][0]',            \n",
            "                                                                  'batch_normalization_1[0][0]']  \n",
            "                                                                                                  \n",
            " block4_sepconv1_act (Activatio  (None, 28, 28, 256)  0          ['add_1[0][0]']                  \n",
            " n)                                                                                               \n",
            "                                                                                                  \n",
            " block4_sepconv1 (SeparableConv  (None, 28, 28, 728)  188672     ['block4_sepconv1_act[0][0]']    \n",
            " 2D)                                                                                              \n",
            "                                                                                                  \n",
            " block4_sepconv1_bn (BatchNorma  (None, 28, 28, 728)  2912       ['block4_sepconv1[0][0]']        \n",
            " lization)                                                                                        \n",
            "                                                                                                  \n",
            " block4_sepconv2_act (Activatio  (None, 28, 28, 728)  0          ['block4_sepconv1_bn[0][0]']     \n",
            " n)                                                                                               \n",
            "                                                                                                  \n",
            " block4_sepconv2 (SeparableConv  (None, 28, 28, 728)  536536     ['block4_sepconv2_act[0][0]']    \n",
            " 2D)                                                                                              \n",
            "                                                                                                  \n",
            " block4_sepconv2_bn (BatchNorma  (None, 28, 28, 728)  2912       ['block4_sepconv2[0][0]']        \n",
            " lization)                                                                                        \n",
            "                                                                                                  \n",
            " conv2d_2 (Conv2D)              (None, 14, 14, 728)  186368      ['add_1[0][0]']                  \n",
            "                                                                                                  \n",
            " block4_pool (MaxPooling2D)     (None, 14, 14, 728)  0           ['block4_sepconv2_bn[0][0]']     \n",
            "                                                                                                  \n",
            " batch_normalization_2 (BatchNo  (None, 14, 14, 728)  2912       ['conv2d_2[0][0]']               \n",
            " rmalization)                                                                                     \n",
            "                                                                                                  \n",
            " add_2 (Add)                    (None, 14, 14, 728)  0           ['block4_pool[0][0]',            \n",
            "                                                                  'batch_normalization_2[0][0]']  \n",
            "                                                                                                  \n",
            " block5_sepconv1_act (Activatio  (None, 14, 14, 728)  0          ['add_2[0][0]']                  \n",
            " n)                                                                                               \n",
            "                                                                                                  \n",
            " block5_sepconv1 (SeparableConv  (None, 14, 14, 728)  536536     ['block5_sepconv1_act[0][0]']    \n",
            " 2D)                                                                                              \n",
            "                                                                                                  \n",
            " block5_sepconv1_bn (BatchNorma  (None, 14, 14, 728)  2912       ['block5_sepconv1[0][0]']        \n",
            " lization)                                                                                        \n",
            "                                                                                                  \n",
            " block5_sepconv2_act (Activatio  (None, 14, 14, 728)  0          ['block5_sepconv1_bn[0][0]']     \n",
            " n)                                                                                               \n",
            "                                                                                                  \n",
            " block5_sepconv2 (SeparableConv  (None, 14, 14, 728)  536536     ['block5_sepconv2_act[0][0]']    \n",
            " 2D)                                                                                              \n",
            "                                                                                                  \n",
            " block5_sepconv2_bn (BatchNorma  (None, 14, 14, 728)  2912       ['block5_sepconv2[0][0]']        \n",
            " lization)                                                                                        \n",
            "                                                                                                  \n",
            " block5_sepconv3_act (Activatio  (None, 14, 14, 728)  0          ['block5_sepconv2_bn[0][0]']     \n",
            " n)                                                                                               \n",
            "                                                                                                  \n",
            " block5_sepconv3 (SeparableConv  (None, 14, 14, 728)  536536     ['block5_sepconv3_act[0][0]']    \n",
            " 2D)                                                                                              \n",
            "                                                                                                  \n",
            " block5_sepconv3_bn (BatchNorma  (None, 14, 14, 728)  2912       ['block5_sepconv3[0][0]']        \n",
            " lization)                                                                                        \n",
            "                                                                                                  \n",
            " add_3 (Add)                    (None, 14, 14, 728)  0           ['block5_sepconv3_bn[0][0]',     \n",
            "                                                                  'add_2[0][0]']                  \n",
            "                                                                                                  \n",
            " block6_sepconv1_act (Activatio  (None, 14, 14, 728)  0          ['add_3[0][0]']                  \n",
            " n)                                                                                               \n",
            "                                                                                                  \n",
            " block6_sepconv1 (SeparableConv  (None, 14, 14, 728)  536536     ['block6_sepconv1_act[0][0]']    \n",
            " 2D)                                                                                              \n",
            "                                                                                                  \n",
            " block6_sepconv1_bn (BatchNorma  (None, 14, 14, 728)  2912       ['block6_sepconv1[0][0]']        \n",
            " lization)                                                                                        \n",
            "                                                                                                  \n",
            " block6_sepconv2_act (Activatio  (None, 14, 14, 728)  0          ['block6_sepconv1_bn[0][0]']     \n",
            " n)                                                                                               \n",
            "                                                                                                  \n",
            " block6_sepconv2 (SeparableConv  (None, 14, 14, 728)  536536     ['block6_sepconv2_act[0][0]']    \n",
            " 2D)                                                                                              \n",
            "                                                                                                  \n",
            " block6_sepconv2_bn (BatchNorma  (None, 14, 14, 728)  2912       ['block6_sepconv2[0][0]']        \n",
            " lization)                                                                                        \n",
            "                                                                                                  \n",
            " block6_sepconv3_act (Activatio  (None, 14, 14, 728)  0          ['block6_sepconv2_bn[0][0]']     \n",
            " n)                                                                                               \n",
            "                                                                                                  \n",
            " block6_sepconv3 (SeparableConv  (None, 14, 14, 728)  536536     ['block6_sepconv3_act[0][0]']    \n",
            " 2D)                                                                                              \n",
            "                                                                                                  \n",
            " block6_sepconv3_bn (BatchNorma  (None, 14, 14, 728)  2912       ['block6_sepconv3[0][0]']        \n",
            " lization)                                                                                        \n",
            "                                                                                                  \n",
            " add_4 (Add)                    (None, 14, 14, 728)  0           ['block6_sepconv3_bn[0][0]',     \n",
            "                                                                  'add_3[0][0]']                  \n",
            "                                                                                                  \n",
            " block7_sepconv1_act (Activatio  (None, 14, 14, 728)  0          ['add_4[0][0]']                  \n",
            " n)                                                                                               \n",
            "                                                                                                  \n",
            " block7_sepconv1 (SeparableConv  (None, 14, 14, 728)  536536     ['block7_sepconv1_act[0][0]']    \n",
            " 2D)                                                                                              \n",
            "                                                                                                  \n",
            " block7_sepconv1_bn (BatchNorma  (None, 14, 14, 728)  2912       ['block7_sepconv1[0][0]']        \n",
            " lization)                                                                                        \n",
            "                                                                                                  \n",
            " block7_sepconv2_act (Activatio  (None, 14, 14, 728)  0          ['block7_sepconv1_bn[0][0]']     \n",
            " n)                                                                                               \n",
            "                                                                                                  \n",
            " block7_sepconv2 (SeparableConv  (None, 14, 14, 728)  536536     ['block7_sepconv2_act[0][0]']    \n",
            " 2D)                                                                                              \n",
            "                                                                                                  \n",
            " block7_sepconv2_bn (BatchNorma  (None, 14, 14, 728)  2912       ['block7_sepconv2[0][0]']        \n",
            " lization)                                                                                        \n",
            "                                                                                                  \n",
            " block7_sepconv3_act (Activatio  (None, 14, 14, 728)  0          ['block7_sepconv2_bn[0][0]']     \n",
            " n)                                                                                               \n",
            "                                                                                                  \n",
            " block7_sepconv3 (SeparableConv  (None, 14, 14, 728)  536536     ['block7_sepconv3_act[0][0]']    \n",
            " 2D)                                                                                              \n",
            "                                                                                                  \n",
            " block7_sepconv3_bn (BatchNorma  (None, 14, 14, 728)  2912       ['block7_sepconv3[0][0]']        \n",
            " lization)                                                                                        \n",
            "                                                                                                  \n",
            " add_5 (Add)                    (None, 14, 14, 728)  0           ['block7_sepconv3_bn[0][0]',     \n",
            "                                                                  'add_4[0][0]']                  \n",
            "                                                                                                  \n",
            " block8_sepconv1_act (Activatio  (None, 14, 14, 728)  0          ['add_5[0][0]']                  \n",
            " n)                                                                                               \n",
            "                                                                                                  \n",
            " block8_sepconv1 (SeparableConv  (None, 14, 14, 728)  536536     ['block8_sepconv1_act[0][0]']    \n",
            " 2D)                                                                                              \n",
            "                                                                                                  \n",
            " block8_sepconv1_bn (BatchNorma  (None, 14, 14, 728)  2912       ['block8_sepconv1[0][0]']        \n",
            " lization)                                                                                        \n",
            "                                                                                                  \n",
            " block8_sepconv2_act (Activatio  (None, 14, 14, 728)  0          ['block8_sepconv1_bn[0][0]']     \n",
            " n)                                                                                               \n",
            "                                                                                                  \n",
            " block8_sepconv2 (SeparableConv  (None, 14, 14, 728)  536536     ['block8_sepconv2_act[0][0]']    \n",
            " 2D)                                                                                              \n",
            "                                                                                                  \n",
            " block8_sepconv2_bn (BatchNorma  (None, 14, 14, 728)  2912       ['block8_sepconv2[0][0]']        \n",
            " lization)                                                                                        \n",
            "                                                                                                  \n",
            " block8_sepconv3_act (Activatio  (None, 14, 14, 728)  0          ['block8_sepconv2_bn[0][0]']     \n",
            " n)                                                                                               \n",
            "                                                                                                  \n",
            " block8_sepconv3 (SeparableConv  (None, 14, 14, 728)  536536     ['block8_sepconv3_act[0][0]']    \n",
            " 2D)                                                                                              \n",
            "                                                                                                  \n",
            " block8_sepconv3_bn (BatchNorma  (None, 14, 14, 728)  2912       ['block8_sepconv3[0][0]']        \n",
            " lization)                                                                                        \n",
            "                                                                                                  \n",
            " add_6 (Add)                    (None, 14, 14, 728)  0           ['block8_sepconv3_bn[0][0]',     \n",
            "                                                                  'add_5[0][0]']                  \n",
            "                                                                                                  \n",
            " block9_sepconv1_act (Activatio  (None, 14, 14, 728)  0          ['add_6[0][0]']                  \n",
            " n)                                                                                               \n",
            "                                                                                                  \n",
            " block9_sepconv1 (SeparableConv  (None, 14, 14, 728)  536536     ['block9_sepconv1_act[0][0]']    \n",
            " 2D)                                                                                              \n",
            "                                                                                                  \n",
            " block9_sepconv1_bn (BatchNorma  (None, 14, 14, 728)  2912       ['block9_sepconv1[0][0]']        \n",
            " lization)                                                                                        \n",
            "                                                                                                  \n",
            " block9_sepconv2_act (Activatio  (None, 14, 14, 728)  0          ['block9_sepconv1_bn[0][0]']     \n",
            " n)                                                                                               \n",
            "                                                                                                  \n",
            " block9_sepconv2 (SeparableConv  (None, 14, 14, 728)  536536     ['block9_sepconv2_act[0][0]']    \n",
            " 2D)                                                                                              \n",
            "                                                                                                  \n",
            " block9_sepconv2_bn (BatchNorma  (None, 14, 14, 728)  2912       ['block9_sepconv2[0][0]']        \n",
            " lization)                                                                                        \n",
            "                                                                                                  \n",
            " block9_sepconv3_act (Activatio  (None, 14, 14, 728)  0          ['block9_sepconv2_bn[0][0]']     \n",
            " n)                                                                                               \n",
            "                                                                                                  \n",
            " block9_sepconv3 (SeparableConv  (None, 14, 14, 728)  536536     ['block9_sepconv3_act[0][0]']    \n",
            " 2D)                                                                                              \n",
            "                                                                                                  \n",
            " block9_sepconv3_bn (BatchNorma  (None, 14, 14, 728)  2912       ['block9_sepconv3[0][0]']        \n",
            " lization)                                                                                        \n",
            "                                                                                                  \n",
            " add_7 (Add)                    (None, 14, 14, 728)  0           ['block9_sepconv3_bn[0][0]',     \n",
            "                                                                  'add_6[0][0]']                  \n",
            "                                                                                                  \n",
            " block10_sepconv1_act (Activati  (None, 14, 14, 728)  0          ['add_7[0][0]']                  \n",
            " on)                                                                                              \n",
            "                                                                                                  \n",
            " block10_sepconv1 (SeparableCon  (None, 14, 14, 728)  536536     ['block10_sepconv1_act[0][0]']   \n",
            " v2D)                                                                                             \n",
            "                                                                                                  \n",
            " block10_sepconv1_bn (BatchNorm  (None, 14, 14, 728)  2912       ['block10_sepconv1[0][0]']       \n",
            " alization)                                                                                       \n",
            "                                                                                                  \n",
            " block10_sepconv2_act (Activati  (None, 14, 14, 728)  0          ['block10_sepconv1_bn[0][0]']    \n",
            " on)                                                                                              \n",
            "                                                                                                  \n",
            " block10_sepconv2 (SeparableCon  (None, 14, 14, 728)  536536     ['block10_sepconv2_act[0][0]']   \n",
            " v2D)                                                                                             \n",
            "                                                                                                  \n",
            " block10_sepconv2_bn (BatchNorm  (None, 14, 14, 728)  2912       ['block10_sepconv2[0][0]']       \n",
            " alization)                                                                                       \n",
            "                                                                                                  \n",
            " block10_sepconv3_act (Activati  (None, 14, 14, 728)  0          ['block10_sepconv2_bn[0][0]']    \n",
            " on)                                                                                              \n",
            "                                                                                                  \n",
            " block10_sepconv3 (SeparableCon  (None, 14, 14, 728)  536536     ['block10_sepconv3_act[0][0]']   \n",
            " v2D)                                                                                             \n",
            "                                                                                                  \n",
            " block10_sepconv3_bn (BatchNorm  (None, 14, 14, 728)  2912       ['block10_sepconv3[0][0]']       \n",
            " alization)                                                                                       \n",
            "                                                                                                  \n",
            " add_8 (Add)                    (None, 14, 14, 728)  0           ['block10_sepconv3_bn[0][0]',    \n",
            "                                                                  'add_7[0][0]']                  \n",
            "                                                                                                  \n",
            " block11_sepconv1_act (Activati  (None, 14, 14, 728)  0          ['add_8[0][0]']                  \n",
            " on)                                                                                              \n",
            "                                                                                                  \n",
            " block11_sepconv1 (SeparableCon  (None, 14, 14, 728)  536536     ['block11_sepconv1_act[0][0]']   \n",
            " v2D)                                                                                             \n",
            "                                                                                                  \n",
            " block11_sepconv1_bn (BatchNorm  (None, 14, 14, 728)  2912       ['block11_sepconv1[0][0]']       \n",
            " alization)                                                                                       \n",
            "                                                                                                  \n",
            " block11_sepconv2_act (Activati  (None, 14, 14, 728)  0          ['block11_sepconv1_bn[0][0]']    \n",
            " on)                                                                                              \n",
            "                                                                                                  \n",
            " block11_sepconv2 (SeparableCon  (None, 14, 14, 728)  536536     ['block11_sepconv2_act[0][0]']   \n",
            " v2D)                                                                                             \n",
            "                                                                                                  \n",
            " block11_sepconv2_bn (BatchNorm  (None, 14, 14, 728)  2912       ['block11_sepconv2[0][0]']       \n",
            " alization)                                                                                       \n",
            "                                                                                                  \n",
            " block11_sepconv3_act (Activati  (None, 14, 14, 728)  0          ['block11_sepconv2_bn[0][0]']    \n",
            " on)                                                                                              \n",
            "                                                                                                  \n",
            " block11_sepconv3 (SeparableCon  (None, 14, 14, 728)  536536     ['block11_sepconv3_act[0][0]']   \n",
            " v2D)                                                                                             \n",
            "                                                                                                  \n",
            " block11_sepconv3_bn (BatchNorm  (None, 14, 14, 728)  2912       ['block11_sepconv3[0][0]']       \n",
            " alization)                                                                                       \n",
            "                                                                                                  \n",
            " add_9 (Add)                    (None, 14, 14, 728)  0           ['block11_sepconv3_bn[0][0]',    \n",
            "                                                                  'add_8[0][0]']                  \n",
            "                                                                                                  \n",
            " block12_sepconv1_act (Activati  (None, 14, 14, 728)  0          ['add_9[0][0]']                  \n",
            " on)                                                                                              \n",
            "                                                                                                  \n",
            " block12_sepconv1 (SeparableCon  (None, 14, 14, 728)  536536     ['block12_sepconv1_act[0][0]']   \n",
            " v2D)                                                                                             \n",
            "                                                                                                  \n",
            " block12_sepconv1_bn (BatchNorm  (None, 14, 14, 728)  2912       ['block12_sepconv1[0][0]']       \n",
            " alization)                                                                                       \n",
            "                                                                                                  \n",
            " block12_sepconv2_act (Activati  (None, 14, 14, 728)  0          ['block12_sepconv1_bn[0][0]']    \n",
            " on)                                                                                              \n",
            "                                                                                                  \n",
            " block12_sepconv2 (SeparableCon  (None, 14, 14, 728)  536536     ['block12_sepconv2_act[0][0]']   \n",
            " v2D)                                                                                             \n",
            "                                                                                                  \n",
            " block12_sepconv2_bn (BatchNorm  (None, 14, 14, 728)  2912       ['block12_sepconv2[0][0]']       \n",
            " alization)                                                                                       \n",
            "                                                                                                  \n",
            " block12_sepconv3_act (Activati  (None, 14, 14, 728)  0          ['block12_sepconv2_bn[0][0]']    \n",
            " on)                                                                                              \n",
            "                                                                                                  \n",
            " block12_sepconv3 (SeparableCon  (None, 14, 14, 728)  536536     ['block12_sepconv3_act[0][0]']   \n",
            " v2D)                                                                                             \n",
            "                                                                                                  \n",
            " block12_sepconv3_bn (BatchNorm  (None, 14, 14, 728)  2912       ['block12_sepconv3[0][0]']       \n",
            " alization)                                                                                       \n",
            "                                                                                                  \n",
            " add_10 (Add)                   (None, 14, 14, 728)  0           ['block12_sepconv3_bn[0][0]',    \n",
            "                                                                  'add_9[0][0]']                  \n",
            "                                                                                                  \n",
            " block13_sepconv1_act (Activati  (None, 14, 14, 728)  0          ['add_10[0][0]']                 \n",
            " on)                                                                                              \n",
            "                                                                                                  \n",
            " block13_sepconv1 (SeparableCon  (None, 14, 14, 728)  536536     ['block13_sepconv1_act[0][0]']   \n",
            " v2D)                                                                                             \n",
            "                                                                                                  \n",
            " block13_sepconv1_bn (BatchNorm  (None, 14, 14, 728)  2912       ['block13_sepconv1[0][0]']       \n",
            " alization)                                                                                       \n",
            "                                                                                                  \n",
            " block13_sepconv2_act (Activati  (None, 14, 14, 728)  0          ['block13_sepconv1_bn[0][0]']    \n",
            " on)                                                                                              \n",
            "                                                                                                  \n",
            " block13_sepconv2 (SeparableCon  (None, 14, 14, 1024  752024     ['block13_sepconv2_act[0][0]']   \n",
            " v2D)                           )                                                                 \n",
            "                                                                                                  \n",
            " block13_sepconv2_bn (BatchNorm  (None, 14, 14, 1024  4096       ['block13_sepconv2[0][0]']       \n",
            " alization)                     )                                                                 \n",
            "                                                                                                  \n",
            " conv2d_3 (Conv2D)              (None, 7, 7, 1024)   745472      ['add_10[0][0]']                 \n",
            "                                                                                                  \n",
            " block13_pool (MaxPooling2D)    (None, 7, 7, 1024)   0           ['block13_sepconv2_bn[0][0]']    \n",
            "                                                                                                  \n",
            " batch_normalization_3 (BatchNo  (None, 7, 7, 1024)  4096        ['conv2d_3[0][0]']               \n",
            " rmalization)                                                                                     \n",
            "                                                                                                  \n",
            " add_11 (Add)                   (None, 7, 7, 1024)   0           ['block13_pool[0][0]',           \n",
            "                                                                  'batch_normalization_3[0][0]']  \n",
            "                                                                                                  \n",
            " block14_sepconv1 (SeparableCon  (None, 7, 7, 1536)  1582080     ['add_11[0][0]']                 \n",
            " v2D)                                                                                             \n",
            "                                                                                                  \n",
            " block14_sepconv1_bn (BatchNorm  (None, 7, 7, 1536)  6144        ['block14_sepconv1[0][0]']       \n",
            " alization)                                                                                       \n",
            "                                                                                                  \n",
            " block14_sepconv1_act (Activati  (None, 7, 7, 1536)  0           ['block14_sepconv1_bn[0][0]']    \n",
            " on)                                                                                              \n",
            "                                                                                                  \n",
            " block14_sepconv2 (SeparableCon  (None, 7, 7, 2048)  3159552     ['block14_sepconv1_act[0][0]']   \n",
            " v2D)                                                                                             \n",
            "                                                                                                  \n",
            " block14_sepconv2_bn (BatchNorm  (None, 7, 7, 2048)  8192        ['block14_sepconv2[0][0]']       \n",
            " alization)                                                                                       \n",
            "                                                                                                  \n",
            " block14_sepconv2_act (Activati  (None, 7, 7, 2048)  0           ['block14_sepconv2_bn[0][0]']    \n",
            " on)                                                                                              \n",
            "                                                                                                  \n",
            " average_pooling2d (AveragePool  (None, 1, 1, 2048)  0           ['block14_sepconv2_act[0][0]']   \n",
            " ing2D)                                                                                           \n",
            "                                                                                                  \n",
            " flatten (Flatten)              (None, 2048)         0           ['average_pooling2d[0][0]']      \n",
            "                                                                                                  \n",
            " dense (Dense)                  (None, 128)          262272      ['flatten[0][0]']                \n",
            "                                                                                                  \n",
            " dropout (Dropout)              (None, 128)          0           ['dense[0][0]']                  \n",
            "                                                                                                  \n",
            " dense_1 (Dense)                (None, 5)            645         ['dropout[0][0]']                \n",
            "                                                                                                  \n",
            "==================================================================================================\n",
            "Total params: 21,124,397\n",
            "Trainable params: 262,917\n",
            "Non-trainable params: 20,861,480\n",
            "__________________________________________________________________________________________________\n"
          ]
        }
      ]
    },
    {
      "cell_type": "markdown",
      "metadata": {
        "id": "4DHtJJkk3nnG"
      },
      "source": [
        "# Training the Model"
      ]
    },
    {
      "cell_type": "code",
      "metadata": {
        "id": "8EZdbKaI3jRX",
        "colab": {
          "base_uri": "https://localhost:8080/"
        },
        "outputId": "6871b2ee-73ea-4c6b-c5d1-75c54162710f"
      },
      "source": [
        "# initialize the learning rate, epochs and batch size to train the model\n",
        "learning_rate = 0.001\n",
        "epochs = 20\n",
        "bs = 32\n",
        "\n",
        "# initialize the optimizer \n",
        "optimizer = Adam(learning_rate = learning_rate, decay=learning_rate/epochs)\n",
        "\n",
        "# complie the model\n",
        "model.compile(loss=\"categorical_crossentropy\", optimizer=optimizer, metrics=['accuracy'])\n",
        "\n",
        "# start training the model\n",
        "hist = model.fit(\n",
        "    aug.flow(trainX, trainY, batch_size = bs),\n",
        "    steps_per_epoch = len(trainX)//bs,\n",
        "    validation_data = (testX, testY),\n",
        "    validation_steps = len(testX)//bs,\n",
        "    epochs = epochs\n",
        ")"
      ],
      "execution_count": null,
      "outputs": [
        {
          "output_type": "stream",
          "name": "stdout",
          "text": [
            "Epoch 1/20\n",
            "54/54 [==============================] - 48s 670ms/step - loss: 0.8001 - accuracy: 0.6725 - val_loss: 0.3275 - val_accuracy: 0.8907\n",
            "Epoch 2/20\n",
            "54/54 [==============================] - 33s 614ms/step - loss: 0.4608 - accuracy: 0.8265 - val_loss: 0.3000 - val_accuracy: 0.8813\n",
            "Epoch 3/20\n",
            "54/54 [==============================] - 32s 594ms/step - loss: 0.3655 - accuracy: 0.8737 - val_loss: 0.2503 - val_accuracy: 0.9067\n",
            "Epoch 4/20\n",
            "54/54 [==============================] - 32s 594ms/step - loss: 0.3255 - accuracy: 0.8871 - val_loss: 0.2451 - val_accuracy: 0.9093\n",
            "Epoch 5/20\n",
            "54/54 [==============================] - 32s 597ms/step - loss: 0.3116 - accuracy: 0.8871 - val_loss: 0.2294 - val_accuracy: 0.9107\n",
            "Epoch 6/20\n",
            "54/54 [==============================] - 32s 594ms/step - loss: 0.3043 - accuracy: 0.8900 - val_loss: 0.2322 - val_accuracy: 0.9040\n",
            "Epoch 7/20\n",
            "54/54 [==============================] - 32s 592ms/step - loss: 0.2907 - accuracy: 0.8877 - val_loss: 0.2128 - val_accuracy: 0.9080\n",
            "Epoch 8/20\n",
            "54/54 [==============================] - 32s 591ms/step - loss: 0.2788 - accuracy: 0.8900 - val_loss: 0.2378 - val_accuracy: 0.9133\n",
            "Epoch 9/20\n",
            "54/54 [==============================] - 32s 592ms/step - loss: 0.2405 - accuracy: 0.9115 - val_loss: 0.1850 - val_accuracy: 0.9320\n",
            "Epoch 10/20\n",
            "54/54 [==============================] - 32s 592ms/step - loss: 0.2574 - accuracy: 0.9133 - val_loss: 0.2036 - val_accuracy: 0.9173\n",
            "Epoch 11/20\n",
            "54/54 [==============================] - 32s 588ms/step - loss: 0.2300 - accuracy: 0.9191 - val_loss: 0.1753 - val_accuracy: 0.9360\n",
            "Epoch 12/20\n",
            "54/54 [==============================] - 32s 589ms/step - loss: 0.2169 - accuracy: 0.9197 - val_loss: 0.1725 - val_accuracy: 0.9400\n",
            "Epoch 13/20\n",
            "54/54 [==============================] - 32s 587ms/step - loss: 0.2060 - accuracy: 0.9220 - val_loss: 0.1732 - val_accuracy: 0.9320\n",
            "Epoch 14/20\n",
            "54/54 [==============================] - 32s 593ms/step - loss: 0.2132 - accuracy: 0.9267 - val_loss: 0.1587 - val_accuracy: 0.9427\n",
            "Epoch 15/20\n",
            "54/54 [==============================] - 32s 594ms/step - loss: 0.2144 - accuracy: 0.9237 - val_loss: 0.1596 - val_accuracy: 0.9387\n",
            "Epoch 16/20\n",
            "54/54 [==============================] - 32s 590ms/step - loss: 0.2065 - accuracy: 0.9272 - val_loss: 0.1815 - val_accuracy: 0.9213\n",
            "Epoch 17/20\n",
            "54/54 [==============================] - 32s 589ms/step - loss: 0.1806 - accuracy: 0.9348 - val_loss: 0.1628 - val_accuracy: 0.9320\n",
            "Epoch 18/20\n",
            "54/54 [==============================] - 32s 593ms/step - loss: 0.2148 - accuracy: 0.9208 - val_loss: 0.1744 - val_accuracy: 0.9360\n",
            "Epoch 19/20\n",
            "54/54 [==============================] - 32s 590ms/step - loss: 0.1952 - accuracy: 0.9278 - val_loss: 0.1782 - val_accuracy: 0.9293\n",
            "Epoch 20/20\n",
            "54/54 [==============================] - 32s 592ms/step - loss: 0.1619 - accuracy: 0.9488 - val_loss: 0.1663 - val_accuracy: 0.9347\n"
          ]
        }
      ]
    },
    {
      "cell_type": "code",
      "metadata": {
        "id": "u6HIqiFQFl8F",
        "colab": {
          "base_uri": "https://localhost:8080/",
          "height": 316
        },
        "outputId": "504dfb47-4921-4692-9a99-1b162b28cad5"
      },
      "source": [
        "# plot the training loss and accuracy graph\n",
        "N = epochs\n",
        "plt.style.use(\"ggplot\")\n",
        "plt.figure()\n",
        "plt.plot(np.arange(0, N), hist.history[\"loss\"], label=\"train_loss\")\n",
        "plt.plot(np.arange(0, N), hist.history[\"val_loss\"], label=\"val_loss\")\n",
        "plt.plot(np.arange(0, N), hist.history[\"accuracy\"], label=\"train_acc\")\n",
        "plt.plot(np.arange(0, N), hist.history[\"val_accuracy\"], label=\"val_acc\")\n",
        "plt.title(\"Training Loss and Accuracy (Xception)\")\n",
        "plt.xlabel(\"Epoch #\")\n",
        "plt.ylabel(\"Loss/Accuracy\")\n",
        "plt.legend(bbox_to_anchor=(1, 1))"
      ],
      "execution_count": null,
      "outputs": [
        {
          "output_type": "execute_result",
          "data": {
            "text/plain": [
              "<matplotlib.legend.Legend at 0x7f42b4538f50>"
            ]
          },
          "metadata": {},
          "execution_count": 13
        },
        {
          "output_type": "display_data",
          "data": {
            "image/png": "[encoded data removed]",
            "text/plain": [
              "<Figure size 432x288 with 1 Axes>"
            ]
          },
          "metadata": {}
        }
      ]
    },
    {
      "cell_type": "code",
      "metadata": {
        "id": "ORaUcGwNFnu5",
        "colab": {
          "base_uri": "https://localhost:8080/"
        },
        "outputId": "c3f23be9-e41a-47cd-80ce-0567f879e1f4"
      },
      "source": [
        "# Test the model using testing dataset\n",
        "predict = model.predict(testX, batch_size = bs)\n",
        "\n",
        "predict = np.argmax(predict,axis=1)\n",
        "print(classification_report(testY.argmax(axis=1), predict, target_names=lb.classes_))"
      ],
      "execution_count": null,
      "outputs": [
        {
          "output_type": "stream",
          "name": "stdout",
          "text": [
            "                           precision    recall  f1-score   support\n",
            "\n",
            "              Corret_Mask       0.91      0.93      0.92       150\n",
            "      Incorrect_Mask_Chin       0.92      0.95      0.93       150\n",
            "Incorrect_Mask_Mouth_Chin       0.94      0.91      0.92       150\n",
            "Incorrect_Mask_Nose_Mouth       0.95      0.93      0.94       150\n",
            "                  No_Mask       0.97      0.96      0.96       150\n",
            "\n",
            "                 accuracy                           0.93       750\n",
            "                macro avg       0.94      0.93      0.93       750\n",
            "             weighted avg       0.94      0.93      0.93       750\n",
            "\n"
          ]
        }
      ]
    },
    {
      "cell_type": "markdown",
      "metadata": {
        "id": "6OLdtG4BKH4Y"
      },
      "source": [
        "# Save model, weights, training history"
      ]
    },
    {
      "cell_type": "code",
      "metadata": {
        "id": "9bP_7JZQ3sAN",
        "colab": {
          "base_uri": "https://localhost:8080/"
        },
        "outputId": "2120fdc8-d77c-4c98-a96c-a2570c04c87c"
      },
      "source": [
        "save_model_path = model_path + \"Saved_Model\"\n",
        "save_weights_path = model_path +\"Saved_Weights\"\n",
        "\n",
        "#Save the trained model\n",
        "model.save(save_model_path) \n",
        "\n",
        "# Save the weights\n",
        "model.save_weights(save_weights_path)"
      ],
      "execution_count": null,
      "outputs": [
        {
          "output_type": "stream",
          "name": "stdout",
          "text": [
            "INFO:tensorflow:Assets written to: /content/MyDrive/My Drive/Colab Notebooks/Image Processing/Face Mask Detection Assignment/Trained_Models/Xception/Saved_Model/assets\n"
          ]
        },
        {
          "output_type": "stream",
          "name": "stderr",
          "text": [
            "/usr/local/lib/python3.7/dist-packages/keras/engine/functional.py:1410: CustomMaskWarning: Custom mask layers require a config and must override get_config. When loading, the custom mask layer must be passed to the custom_objects argument.\n",
            "  layer_config = serialize_layer_fn(layer)\n",
            "/usr/local/lib/python3.7/dist-packages/keras/saving/saved_model/layer_serialization.py:112: CustomMaskWarning: Custom mask layers require a config and must override get_config. When loading, the custom mask layer must be passed to the custom_objects argument.\n",
            "  return generic_utils.serialize_keras_object(obj)\n"
          ]
        }
      ]
    },
    {
      "cell_type": "code",
      "metadata": {
        "id": "M0F8rcasFQdb",
        "colab": {
          "base_uri": "https://localhost:8080/"
        },
        "outputId": "01f3ee7f-5ea4-4545-d090-a74dfdf643cb"
      },
      "source": [
        "import pickle \n",
        "with open(model_path + 'hist.txt', 'wb') as filehandle:\n",
        "    # store the data as binary data stream\n",
        "    pickle.dump(hist, filehandle)"
      ],
      "execution_count": null,
      "outputs": [
        {
          "output_type": "stream",
          "name": "stdout",
          "text": [
            "INFO:tensorflow:Assets written to: ram://c7124b6d-271a-4135-b37d-d0bfa97a7fea/assets\n"
          ]
        },
        {
          "output_type": "stream",
          "name": "stderr",
          "text": [
            "/usr/local/lib/python3.7/dist-packages/keras/engine/functional.py:1410: CustomMaskWarning: Custom mask layers require a config and must override get_config. When loading, the custom mask layer must be passed to the custom_objects argument.\n",
            "  layer_config = serialize_layer_fn(layer)\n",
            "/usr/local/lib/python3.7/dist-packages/keras/saving/saved_model/layer_serialization.py:112: CustomMaskWarning: Custom mask layers require a config and must override get_config. When loading, the custom mask layer must be passed to the custom_objects argument.\n",
            "  return generic_utils.serialize_keras_object(obj)\n"
          ]
        }
      ]
    },
    {
      "cell_type": "markdown",
      "metadata": {
        "id": "AAQdljhcLbXj"
      },
      "source": [
        "# Load Model and History"
      ]
    },
    {
      "cell_type": "code",
      "metadata": {
        "id": "vL75CP_oF0KI"
      },
      "source": [
        "# # To load the model\n",
        "new_model = load_model('/content/MyDrive/My Drive/Colab Notebooks/Image Processing/Face Mask Detection Assignment/Trained_Models/Xception/Saved_model')"
      ],
      "execution_count": null,
      "outputs": []
    },
    {
      "cell_type": "code",
      "metadata": {
        "id": "Rgb1EcTYLM5r"
      },
      "source": [
        "# load model history\n",
        "import pickle\n",
        "\n",
        "with open('/content/MyDrive/My Drive/Colab Notebooks/Image Processing/Face Mask Detection Assignment/Trained_Models/Xception/hist.txt', 'rb') as filehandle:\n",
        "    # read the data as binary data stream\n",
        "    hist = pickle.load(filehandle)"
      ],
      "execution_count": null,
      "outputs": []
    },
    {
      "cell_type": "code",
      "metadata": {
        "id": "-PuihKT95Ud9"
      },
      "source": [
        "# function ClickConnect(){\n",
        "#     console.log(\"Clicked on connect button\"); \n",
        "#     document.querySelector(\"colab-connect-button\").click()\n",
        "# }\n",
        "# setInterval(ClickConnect,60000)"
      ],
      "execution_count": null,
      "outputs": []
    }
  ]
}